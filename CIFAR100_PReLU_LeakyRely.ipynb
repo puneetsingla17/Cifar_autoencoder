{
  "cells": [
    {
      "metadata": {
        "_uuid": "8f2839f25d086af736a60e9eeb907d3b93b6e0e5",
        "_cell_guid": "b1076dfc-b9ad-4769-8c92-a6c4dae69d19",
        "trusted": true
      },
      "cell_type": "code",
      "source": "# This Python 3 environment comes with many helpful analytics libraries installed\n# It is defined by the kaggle/python docker image: https://github.com/kaggle/docker-python\n# For example, here's several helpful packages to load in \n\nimport numpy as np # linear algebra\nimport pandas as pd # data processing, CSV file I/O (e.g. pd.read_csv)\nfrom keras.datasets import cifar100\nfrom keras.layers import Conv2D,MaxPooling2D,Flatten,Dropout,BatchNormalization,Activation,Input,UpSampling2D\nfrom keras.models import Model,Sequential\nfrom keras.layers import LeakyReLU,PReLU\n# Input data files are available in the \"../input/\" directory.\n# For example, running this (by clicking run or pressing Shift+Enter) will list the files in the input directory\nimport matplotlib.pyplot as plt\nimport os\nprint(os.listdir(\"../input\"))\nimport tensorflow as tf\nfrom keras.callbacks import EarlyStopping\n# Any results you write to the current directory are saved as output.",
      "execution_count": null,
      "outputs": []
    },
    {
      "metadata": {
        "_cell_guid": "79c7e3d0-c299-4dcb-8224-4455121ee9b0",
        "_uuid": "d629ff2d2480ee46fbb7e2d37f6b5fab8052498a",
        "trusted": true
      },
      "cell_type": "code",
      "source": "(xtrain,ytrain),(xtest,ytest)=cifar100.load_data()",
      "execution_count": null,
      "outputs": []
    },
    {
      "metadata": {
        "trusted": true,
        "_uuid": "36d150a7a12e376104f231c74510ad4db3ef47b6"
      },
      "cell_type": "code",
      "source": "img_shape=xtrain.shape[1:]\nN=xtrain.shape[0]\n",
      "execution_count": null,
      "outputs": []
    },
    {
      "metadata": {
        "trusted": true,
        "_uuid": "c8be487cab80fe51125281e10c453cd9a9aa80d9"
      },
      "cell_type": "code",
      "source": "plt.imshow(xtrain[0])",
      "execution_count": null,
      "outputs": []
    },
    {
      "metadata": {
        "trusted": true,
        "_uuid": "40d251e7292fa7dcaefffae9029d511ce95342b4"
      },
      "cell_type": "code",
      "source": "#Data preprocessing\nxtrain1=xtrain.astype('float32')/255\nxtest1=xtest.astype('float32')/255",
      "execution_count": null,
      "outputs": []
    },
    {
      "metadata": {
        "trusted": true,
        "_uuid": "e8629e3a1d602081b0fbe1091fc701bbe3835639"
      },
      "cell_type": "code",
      "source": "inp=Input(shape=img_shape,dtype=tf.float32)\nx=Conv2D(8,(3,3),padding='same')(inp)\nx=Conv2D(8,(3,3),padding='same')(x)\nx=BatchNormalization()(x)\nx=LeakyReLU(0.2)(x)\nx=MaxPooling2D((2,2))(x)\nx=Conv2D(16,(3,3),padding='same')(x)\nx=Conv2D(16,(3,3),padding='same')(x)\nx=BatchNormalization()(x)\nx=LeakyReLU(0.2)(x)\nencod=MaxPooling2D((2,2))(x)\n\nx=Conv2D(8,(3,3),padding='same')(encod)\nx=Conv2D(8,(3,3),padding='same')(x)\nx=BatchNormalization()(x)\nx=LeakyReLU(0.2)(x)\nx=UpSampling2D((2,2))(x)\nx=Conv2D(16,(3,3),padding='same')(x)\nx=Conv2D(16,(3,3),padding='same')(x)\nx=BatchNormalization()(x)\nx=LeakyReLU(0.2)(x)\nx=UpSampling2D((2,2))(x)\nx=Conv2D(32,(3,3),padding='same')(x)\nx=Conv2D(32,(3,3),padding='same')(x)\nx=BatchNormalization()(x)\nx=LeakyReLU(0.2)(x)\nx=Conv2D(3,(3,3),padding='same')(x)\nx=Activation('sigmoid')(x)",
      "execution_count": null,
      "outputs": []
    },
    {
      "metadata": {
        "trusted": true,
        "_uuid": "58579e01478389258ba7ffb811a08ba43c35b898"
      },
      "cell_type": "code",
      "source": "Encoder=Model(inp,encod)\nAutoencoder=Model(inp,x)",
      "execution_count": null,
      "outputs": []
    },
    {
      "metadata": {
        "trusted": true,
        "_uuid": "7bdfef3e4c70fc86e27ae6700f96f45fe2329520"
      },
      "cell_type": "code",
      "source": "Autoencoder.summary()",
      "execution_count": null,
      "outputs": []
    },
    {
      "metadata": {
        "trusted": true,
        "_uuid": "b51b51f01416dd06fc881cf39293043300d676ac"
      },
      "cell_type": "code",
      "source": "Encoder.summary()",
      "execution_count": null,
      "outputs": []
    },
    {
      "metadata": {
        "trusted": true,
        "_uuid": "6102b2e725854551d46650bd9ad4fcce2dfd9559"
      },
      "cell_type": "code",
      "source": "Autoencoder.compile(optimizer='Adam',loss='binary_crossentropy')\n",
      "execution_count": null,
      "outputs": []
    },
    {
      "metadata": {
        "trusted": true,
        "_uuid": "0cff5bb98bf7edffb430a5b7d8fb2ed204950c53"
      },
      "cell_type": "code",
      "source": "earlystop=EarlyStopping(monitor='val_loss',patience=5,verbose=1,mode='auto')",
      "execution_count": null,
      "outputs": []
    },
    {
      "metadata": {
        "trusted": true,
        "_uuid": "23c3db738d236b0ae12dc78e23fd6c7e6c17316d"
      },
      "cell_type": "code",
      "source": "batchsize=64\nepochs=30\n",
      "execution_count": null,
      "outputs": []
    },
    {
      "metadata": {
        "trusted": true,
        "_uuid": "f5ebf0333e991518f1c7feb4306a22b674786a08"
      },
      "cell_type": "code",
      "source": "history=Autoencoder.fit(xtrain1,xtrain1,batch_size=batchsize,epochs=epochs,verbose=1,callbacks=[earlystop],validation_data=(xtest1,xtest1),shuffle=True)",
      "execution_count": null,
      "outputs": []
    },
    {
      "metadata": {
        "trusted": true,
        "_uuid": "0d2c85c135a9b64104df6e51c6364d2c794619b8"
      },
      "cell_type": "code",
      "source": "#Testing the quality of images produced\ndef show_both_images(orig,dec,num=10):\n    n=num\n    plt.figure(figsize=(20,4))\n    \n    for i in range(n):\n        ax=plt.subplot(2,n,i+1)\n        plt.imshow(orig[i].reshape(32,32,3))\n        \n        ax=plt.subplot(2,n,i+1+n)\n        plt.imshow(dec[i].reshape(32,32,3))\n    plt.show()\n",
      "execution_count": null,
      "outputs": []
    },
    {
      "metadata": {
        "trusted": true,
        "_uuid": "2276050cf207babebe3de9894457bc03cc1ecac8"
      },
      "cell_type": "code",
      "source": "cifar_test=Autoencoder.predict(xtest1)",
      "execution_count": null,
      "outputs": []
    },
    {
      "metadata": {
        "trusted": true,
        "_uuid": "6b033200c1a6f45690443cc7f4ef3be4ce157475"
      },
      "cell_type": "code",
      "source": "show_both_images(xtest,cifar_test)",
      "execution_count": null,
      "outputs": []
    },
    {
      "metadata": {
        "_uuid": "2b52079e5c2e9d3c1ee96142cf730d841a6d2f85"
      },
      "cell_type": "markdown",
      "source": "**# Trying New Idea\n# **Using Parametric Activation function**\n**"
    },
    {
      "metadata": {
        "trusted": true,
        "_uuid": "aeeee8f4d7ff38122ce8f1fa87f3aa1768576342"
      },
      "cell_type": "code",
      "source": "inp=Input(shape=img_shape,dtype=tf.float32)\nx=Conv2D(8,(3,3),padding='same')(inp)\nx=Conv2D(8,(3,3),padding='same')(x)\nx=BatchNormalization()(x)\nx=PReLU()(x)\nx=MaxPooling2D((2,2))(x)\nx=Conv2D(16,(3,3),padding='same')(x)\nx=Conv2D(16,(3,3),padding='same')(x)\nx=BatchNormalization()(x)\nx=PReLU()(x)\nencod=MaxPooling2D((2,2))(x)\n\nx=Conv2D(8,(3,3),padding='same')(encod)\nx=Conv2D(8,(3,3),padding='same')(x)\nx=BatchNormalization()(x)\nx=PReLU()(x)\nx=UpSampling2D((2,2))(x)\nx=Conv2D(16,(3,3),padding='same')(x)\nx=Conv2D(16,(3,3),padding='same')(x)\nx=PReLU()(x)\nx=UpSampling2D((2,2))(x)\nx=Conv2D(32,(3,3),padding='same')(x)\nx=Conv2D(32,(3,3),padding='same')(x)\nx=BatchNormalization()(x)\nx=PReLU()(x)\nx=Conv2D(3,(3,3),padding='same')(x)\nx=Activation('sigmoid')(x)",
      "execution_count": null,
      "outputs": []
    },
    {
      "metadata": {
        "trusted": true,
        "_uuid": "3a79f37a124b95e81f8ff1e20aa4fdb1c04da04f"
      },
      "cell_type": "code",
      "source": "Encoder=Model(inp,encod)\nAutoencoder=Model(inp,x)",
      "execution_count": null,
      "outputs": []
    },
    {
      "metadata": {
        "trusted": true,
        "_uuid": "2ebe3022a4b6d0838e44514a5432995e9936d197"
      },
      "cell_type": "code",
      "source": "Encoder.summary() \n#alpha is initialized for each parameter",
      "execution_count": null,
      "outputs": []
    },
    {
      "metadata": {
        "trusted": true,
        "_uuid": "fee309b2724dfea4104e8c16fb5659e67eaa1d04"
      },
      "cell_type": "code",
      "source": "Autoencoder.summary()",
      "execution_count": null,
      "outputs": []
    },
    {
      "metadata": {
        "trusted": true,
        "_uuid": "8023438142cbabe22a6ba61db33eb880d5d49718"
      },
      "cell_type": "code",
      "source": "earlystop=EarlyStopping(monitor='val_loss',patience=5,verbose=1,mode='auto')",
      "execution_count": null,
      "outputs": []
    },
    {
      "metadata": {
        "trusted": true,
        "_uuid": "15a0785649860308956d49e1b871e30f91133169"
      },
      "cell_type": "code",
      "source": "batchsize=64\nepochs=30\nAutoencoder.compile(optimizer='Adam',loss='binary_crossentropy')",
      "execution_count": null,
      "outputs": []
    },
    {
      "metadata": {
        "trusted": true,
        "_uuid": "e00542d6f880440992cfe6cc2a40b083228d8137"
      },
      "cell_type": "code",
      "source": "history=Autoencoder.fit(xtrain1,xtrain1,batch_size=batchsize,epochs=epochs,verbose=1,callbacks=[earlystop],validation_data=(xtest1,xtest1),shuffle=True)",
      "execution_count": null,
      "outputs": []
    },
    {
      "metadata": {
        "trusted": true,
        "_uuid": "f33e5605ec5a5a5b6d80df018646ce32abed4bbe"
      },
      "cell_type": "code",
      "source": "cifar_valid=Autoencoder.predict(xtest1)",
      "execution_count": null,
      "outputs": []
    },
    {
      "metadata": {
        "trusted": true,
        "_uuid": "58a40556d9c74dde9089e96f80a948baf351803b"
      },
      "cell_type": "code",
      "source": "show_both_images(xtest,cifar_valid)",
      "execution_count": null,
      "outputs": []
    },
    {
      "metadata": {
        "trusted": true,
        "_uuid": "b13a8378f80e4640da3ea713147e925d0398faf0"
      },
      "cell_type": "code",
      "source": "plt.plot(history.history['val_loss'])",
      "execution_count": null,
      "outputs": []
    },
    {
      "metadata": {
        "trusted": true,
        "_uuid": "17092a4fa5ac43b7b044c0dce2f93fd15f507aff"
      },
      "cell_type": "code",
      "source": "plt.plot(history.history['loss'])",
      "execution_count": null,
      "outputs": []
    },
    {
      "metadata": {
        "trusted": true,
        "_uuid": "fbf59efbcc308df29dbb816fc769337535dc1d11"
      },
      "cell_type": "code",
      "source": "Autoencoder.layers[4].get_weights()\n#list of Alpha values which model learnt",
      "execution_count": null,
      "outputs": []
    },
    {
      "metadata": {
        "trusted": true,
        "_uuid": "215013536ca4debc2a64b270ded06f9a1c87e942"
      },
      "cell_type": "code",
      "source": "print(Autoencoder.layers[4])",
      "execution_count": null,
      "outputs": []
    },
    {
      "metadata": {
        "trusted": true,
        "_uuid": "9e0171067dd2277d0a9835a7dac1bcd186e56fdb"
      },
      "cell_type": "code",
      "source": "",
      "execution_count": null,
      "outputs": []
    }
  ],
  "metadata": {
    "kernelspec": {
      "display_name": "Python 3",
      "language": "python",
      "name": "python3"
    },
    "language_info": {
      "name": "python",
      "version": "3.6.6",
      "mimetype": "text/x-python",
      "codemirror_mode": {
        "name": "ipython",
        "version": 3
      },
      "pygments_lexer": "ipython3",
      "nbconvert_exporter": "python",
      "file_extension": ".py"
    }
  },
  "nbformat": 4,
  "nbformat_minor": 1
}