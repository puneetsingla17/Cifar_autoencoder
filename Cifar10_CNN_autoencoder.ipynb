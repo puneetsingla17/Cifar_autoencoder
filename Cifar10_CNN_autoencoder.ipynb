{
  "cells": [
    {
      "metadata": {
        "_uuid": "8f2839f25d086af736a60e9eeb907d3b93b6e0e5",
        "_cell_guid": "b1076dfc-b9ad-4769-8c92-a6c4dae69d19",
        "trusted": true
      },
      "cell_type": "code",
      "source": "# This Python 3 environment comes with many helpful analytics libraries installed\n# It is defined by the kaggle/python docker image: https://github.com/kaggle/docker-python\n# For example, here's several helpful packages to load in \n\nimport numpy as np # linear algebra\nimport pandas as pd # data processing, CSV file I/O (e.g. pd.read_csv)\nfrom keras.layers import BatchNormalization,Conv2D,MaxPooling2D,Flatten,UpSampling2D,Dense,Reshape\nfrom keras.models import Model\nfrom keras.datasets import cifar10\n# Input data files are available in the \"../input/\" directory.\n# For example, running this (by clicking run or pressing Shift+Enter) will list the files in the input directory\nfrom keras.layers import Input,Conv2D,MaxPooling2D,Flatten,Dropout,BatchNormalization,UpSampling2D,Activation\nimport os\nprint(os.listdir(\"../input\"))\nimport matplotlib.pyplot as plt\nfrom keras.callbacks import EarlyStopping\n# Any results you write to the current directory are saved as output.",
      "execution_count": 6,
      "outputs": [
        {
          "output_type": "stream",
          "text": "[]\n",
          "name": "stdout"
        }
      ]
    },
    {
      "metadata": {
        "_cell_guid": "79c7e3d0-c299-4dcb-8224-4455121ee9b0",
        "_uuid": "d629ff2d2480ee46fbb7e2d37f6b5fab8052498a",
        "trusted": true
      },
      "cell_type": "code",
      "source": "# https://github.com/shibuiwilliam/Keras_Autoencoder/blob/master/Cifar_Conv_AutoEncoder.ipynb",
      "execution_count": null,
      "outputs": []
    },
    {
      "metadata": {
        "trusted": true,
        "_uuid": "f85735554e214882ec093f22f56cac41400334a3"
      },
      "cell_type": "code",
      "source": "(xtrain,ytrain),(xtest,ytest)=cifar10.load_data()",
      "execution_count": 7,
      "outputs": []
    },
    {
      "metadata": {
        "trusted": true,
        "_uuid": "8ab49caf1386b9eb2682efbfa32051b6829bec3c"
      },
      "cell_type": "code",
      "source": "batchsize=64\nn_classes=10\nepochs=50",
      "execution_count": 8,
      "outputs": []
    },
    {
      "metadata": {
        "trusted": true,
        "_uuid": "4a2ff97cbb602f12cda9e660d77f111db5f87eb5"
      },
      "cell_type": "code",
      "source": "img_shape=xtrain.shape[1:]\nN=xtrain.shape[0]",
      "execution_count": 9,
      "outputs": []
    },
    {
      "metadata": {
        "trusted": true,
        "_uuid": "ef04f329e6a8c13f15cf49a19a8d7a0dd7af1733"
      },
      "cell_type": "code",
      "source": "xtrain1=xtrain.astype('float32')/255\nxtest1=xtest.astype('float32')/255",
      "execution_count": 10,
      "outputs": []
    },
    {
      "metadata": {
        "trusted": true,
        "_uuid": "995c4a005fc0ce7a2b2c22d1ba57dc555693c0bf"
      },
      "cell_type": "code",
      "source": "xtrain1[0]",
      "execution_count": 11,
      "outputs": [
        {
          "output_type": "execute_result",
          "execution_count": 11,
          "data": {
            "text/plain": "array([[[0.23137255, 0.24313726, 0.24705882],\n        [0.16862746, 0.18039216, 0.1764706 ],\n        [0.19607843, 0.1882353 , 0.16862746],\n        ...,\n        [0.61960787, 0.5176471 , 0.42352942],\n        [0.59607846, 0.49019608, 0.4       ],\n        [0.5803922 , 0.4862745 , 0.40392157]],\n\n       [[0.0627451 , 0.07843138, 0.07843138],\n        [0.        , 0.        , 0.        ],\n        [0.07058824, 0.03137255, 0.        ],\n        ...,\n        [0.48235294, 0.34509805, 0.21568628],\n        [0.46666667, 0.3254902 , 0.19607843],\n        [0.47843137, 0.34117648, 0.22352941]],\n\n       [[0.09803922, 0.09411765, 0.08235294],\n        [0.0627451 , 0.02745098, 0.        ],\n        [0.19215687, 0.10588235, 0.03137255],\n        ...,\n        [0.4627451 , 0.32941177, 0.19607843],\n        [0.47058824, 0.32941177, 0.19607843],\n        [0.42745098, 0.28627452, 0.16470589]],\n\n       ...,\n\n       [[0.8156863 , 0.6666667 , 0.3764706 ],\n        [0.7882353 , 0.6       , 0.13333334],\n        [0.7764706 , 0.6313726 , 0.10196079],\n        ...,\n        [0.627451  , 0.52156866, 0.27450982],\n        [0.21960784, 0.12156863, 0.02745098],\n        [0.20784314, 0.13333334, 0.07843138]],\n\n       [[0.7058824 , 0.54509807, 0.3764706 ],\n        [0.6784314 , 0.48235294, 0.16470589],\n        [0.7294118 , 0.5647059 , 0.11764706],\n        ...,\n        [0.72156864, 0.5803922 , 0.36862746],\n        [0.38039216, 0.24313726, 0.13333334],\n        [0.3254902 , 0.20784314, 0.13333334]],\n\n       [[0.69411767, 0.5647059 , 0.45490196],\n        [0.65882355, 0.5058824 , 0.36862746],\n        [0.7019608 , 0.5568628 , 0.34117648],\n        ...,\n        [0.84705883, 0.72156864, 0.54901963],\n        [0.5921569 , 0.4627451 , 0.32941177],\n        [0.48235294, 0.36078432, 0.28235295]]], dtype=float32)"
          },
          "metadata": {}
        }
      ]
    },
    {
      "metadata": {
        "trusted": true,
        "_uuid": "570d51e041cc4e42418c67a5a22249db393c8edf"
      },
      "cell_type": "code",
      "source": "# Encoder Model\ninp1=Input(shape=(32,32,3))\nx=Conv2D(64,(3,3),padding='same')(inp1)\nx=BatchNormalization()(x)\nx=Activation('relu')(x)\nx=MaxPooling2D((2,2),padding='same')(x)\nx=Conv2D(32,(3,3),padding='same')(x)\nx=BatchNormalization()(x)\nx=Activation('relu')(x)\nx=MaxPooling2D((2,2),padding='same')(x)\nx=Conv2D(16,(3,3),padding='same')(x)\nx=BatchNormalization()(x)\nx=Activation('relu')(x)\nencoded=MaxPooling2D((2,2))(x)\n\n\n#Decoder Model\nx=Conv2D(16,(3,3),padding='same')(encoded)\nx=BatchNormalization()(x)\nx=Activation('relu')(x)\nx=UpSampling2D((2,2))(x)\nx=Conv2D(16,(3,3),padding='same')(x)\nx=BatchNormalization()(x)\nx=Activation('relu')(x)\nx=UpSampling2D((2,2))(x)\nx=Conv2D(16,(3,3),padding='same')(x)\nx=BatchNormalization()(x)\nx=Activation('relu')(x)\nx=UpSampling2D((2,2))(x)\nx=Conv2D(3,(3,3),padding='same')(x)\nx=BatchNormalization()(x)\ndecoded=Activation('sigmoid')(x)",
      "execution_count": 12,
      "outputs": []
    },
    {
      "metadata": {
        "trusted": true,
        "_uuid": "d0b567dcebe850ef29016dca15fee22295bf1464"
      },
      "cell_type": "code",
      "source": "Encoder=Model(inp1,encoded)\nmodel=Model(inp1,decoded)\n",
      "execution_count": 13,
      "outputs": []
    },
    {
      "metadata": {
        "trusted": true,
        "_uuid": "9f9b19adabd8dbdc939d26f19a28fc77965a020e"
      },
      "cell_type": "code",
      "source": "Encoder.summary()",
      "execution_count": 14,
      "outputs": [
        {
          "output_type": "stream",
          "text": "_________________________________________________________________\nLayer (type)                 Output Shape              Param #   \n=================================================================\ninput_1 (InputLayer)         (None, 32, 32, 3)         0         \n_________________________________________________________________\nconv2d_1 (Conv2D)            (None, 32, 32, 64)        1792      \n_________________________________________________________________\nbatch_normalization_1 (Batch (None, 32, 32, 64)        256       \n_________________________________________________________________\nactivation_1 (Activation)    (None, 32, 32, 64)        0         \n_________________________________________________________________\nmax_pooling2d_1 (MaxPooling2 (None, 16, 16, 64)        0         \n_________________________________________________________________\nconv2d_2 (Conv2D)            (None, 16, 16, 32)        18464     \n_________________________________________________________________\nbatch_normalization_2 (Batch (None, 16, 16, 32)        128       \n_________________________________________________________________\nactivation_2 (Activation)    (None, 16, 16, 32)        0         \n_________________________________________________________________\nmax_pooling2d_2 (MaxPooling2 (None, 8, 8, 32)          0         \n_________________________________________________________________\nconv2d_3 (Conv2D)            (None, 8, 8, 16)          4624      \n_________________________________________________________________\nbatch_normalization_3 (Batch (None, 8, 8, 16)          64        \n_________________________________________________________________\nactivation_3 (Activation)    (None, 8, 8, 16)          0         \n_________________________________________________________________\nmax_pooling2d_3 (MaxPooling2 (None, 4, 4, 16)          0         \n=================================================================\nTotal params: 25,328\nTrainable params: 25,104\nNon-trainable params: 224\n_________________________________________________________________\n",
          "name": "stdout"
        }
      ]
    },
    {
      "metadata": {
        "trusted": true,
        "_uuid": "bf4f73e186c7a06e25575c7d7fc27a1c91ca4f81"
      },
      "cell_type": "code",
      "source": "model.summary()",
      "execution_count": 15,
      "outputs": [
        {
          "output_type": "stream",
          "text": "_________________________________________________________________\nLayer (type)                 Output Shape              Param #   \n=================================================================\ninput_1 (InputLayer)         (None, 32, 32, 3)         0         \n_________________________________________________________________\nconv2d_1 (Conv2D)            (None, 32, 32, 64)        1792      \n_________________________________________________________________\nbatch_normalization_1 (Batch (None, 32, 32, 64)        256       \n_________________________________________________________________\nactivation_1 (Activation)    (None, 32, 32, 64)        0         \n_________________________________________________________________\nmax_pooling2d_1 (MaxPooling2 (None, 16, 16, 64)        0         \n_________________________________________________________________\nconv2d_2 (Conv2D)            (None, 16, 16, 32)        18464     \n_________________________________________________________________\nbatch_normalization_2 (Batch (None, 16, 16, 32)        128       \n_________________________________________________________________\nactivation_2 (Activation)    (None, 16, 16, 32)        0         \n_________________________________________________________________\nmax_pooling2d_2 (MaxPooling2 (None, 8, 8, 32)          0         \n_________________________________________________________________\nconv2d_3 (Conv2D)            (None, 8, 8, 16)          4624      \n_________________________________________________________________\nbatch_normalization_3 (Batch (None, 8, 8, 16)          64        \n_________________________________________________________________\nactivation_3 (Activation)    (None, 8, 8, 16)          0         \n_________________________________________________________________\nmax_pooling2d_3 (MaxPooling2 (None, 4, 4, 16)          0         \n_________________________________________________________________\nconv2d_4 (Conv2D)            (None, 4, 4, 16)          2320      \n_________________________________________________________________\nbatch_normalization_4 (Batch (None, 4, 4, 16)          64        \n_________________________________________________________________\nactivation_4 (Activation)    (None, 4, 4, 16)          0         \n_________________________________________________________________\nup_sampling2d_1 (UpSampling2 (None, 8, 8, 16)          0         \n_________________________________________________________________\nconv2d_5 (Conv2D)            (None, 8, 8, 16)          2320      \n_________________________________________________________________\nbatch_normalization_5 (Batch (None, 8, 8, 16)          64        \n_________________________________________________________________\nactivation_5 (Activation)    (None, 8, 8, 16)          0         \n_________________________________________________________________\nup_sampling2d_2 (UpSampling2 (None, 16, 16, 16)        0         \n_________________________________________________________________\nconv2d_6 (Conv2D)            (None, 16, 16, 16)        2320      \n_________________________________________________________________\nbatch_normalization_6 (Batch (None, 16, 16, 16)        64        \n_________________________________________________________________\nactivation_6 (Activation)    (None, 16, 16, 16)        0         \n_________________________________________________________________\nup_sampling2d_3 (UpSampling2 (None, 32, 32, 16)        0         \n_________________________________________________________________\nconv2d_7 (Conv2D)            (None, 32, 32, 3)         435       \n_________________________________________________________________\nbatch_normalization_7 (Batch (None, 32, 32, 3)         12        \n_________________________________________________________________\nactivation_7 (Activation)    (None, 32, 32, 3)         0         \n=================================================================\nTotal params: 32,927\nTrainable params: 32,601\nNon-trainable params: 326\n_________________________________________________________________\n",
          "name": "stdout"
        }
      ]
    },
    {
      "metadata": {
        "trusted": true,
        "_uuid": "b76019d8480fa2e84966ca67009f90f6e803bb42"
      },
      "cell_type": "code",
      "source": "early_stop = EarlyStopping(monitor='val_loss', patience=5, verbose=1, mode='auto')",
      "execution_count": 16,
      "outputs": []
    },
    {
      "metadata": {
        "trusted": true,
        "_uuid": "c5639d1d5f54096f7357d384f7d954b799d09a8f"
      },
      "cell_type": "code",
      "source": "model.compile(optimizer='Adam',loss='binary_crossentropy')",
      "execution_count": 17,
      "outputs": []
    },
    {
      "metadata": {
        "trusted": true,
        "_uuid": "7d22a264b487e5d4139980f7646c225bc4d80ba9"
      },
      "cell_type": "code",
      "source": "history=model.fit(xtrain1,xtrain1,batch_size=batchsize,epochs=epochs,callbacks=[early_stop],validation_data=(xtest1,xtest1),shuffle=True)",
      "execution_count": 18,
      "outputs": [
        {
          "output_type": "stream",
          "text": "Train on 50000 samples, validate on 10000 samples\nEpoch 1/50\n50000/50000 [==============================] - 21s 420us/step - loss: 0.5897 - val_loss: 0.5829\nEpoch 2/50\n50000/50000 [==============================] - 18s 350us/step - loss: 0.5765 - val_loss: 0.5753\nEpoch 3/50\n50000/50000 [==============================] - 18s 351us/step - loss: 0.5734 - val_loss: 0.5728\nEpoch 4/50\n50000/50000 [==============================] - 17s 349us/step - loss: 0.5716 - val_loss: 0.5711\nEpoch 5/50\n50000/50000 [==============================] - 17s 350us/step - loss: 0.5702 - val_loss: 0.5696\nEpoch 6/50\n50000/50000 [==============================] - 17s 350us/step - loss: 0.5692 - val_loss: 0.5716\nEpoch 7/50\n50000/50000 [==============================] - 17s 349us/step - loss: 0.5684 - val_loss: 0.5689\nEpoch 8/50\n50000/50000 [==============================] - 17s 349us/step - loss: 0.5678 - val_loss: 0.5683\nEpoch 9/50\n50000/50000 [==============================] - 17s 350us/step - loss: 0.5673 - val_loss: 0.5678\nEpoch 10/50\n50000/50000 [==============================] - 18s 350us/step - loss: 0.5669 - val_loss: 0.5666\nEpoch 11/50\n50000/50000 [==============================] - 17s 350us/step - loss: 0.5665 - val_loss: 0.5675\nEpoch 12/50\n50000/50000 [==============================] - 17s 349us/step - loss: 0.5663 - val_loss: 0.5665\nEpoch 13/50\n50000/50000 [==============================] - 18s 350us/step - loss: 0.5660 - val_loss: 0.5664\nEpoch 14/50\n50000/50000 [==============================] - 18s 354us/step - loss: 0.5658 - val_loss: 0.5662\nEpoch 15/50\n50000/50000 [==============================] - 17s 350us/step - loss: 0.5657 - val_loss: 0.5668\nEpoch 16/50\n50000/50000 [==============================] - 18s 351us/step - loss: 0.5655 - val_loss: 0.5660\nEpoch 17/50\n50000/50000 [==============================] - 17s 348us/step - loss: 0.5654 - val_loss: 0.5663\nEpoch 18/50\n50000/50000 [==============================] - 18s 350us/step - loss: 0.5652 - val_loss: 0.5656\nEpoch 19/50\n50000/50000 [==============================] - 18s 351us/step - loss: 0.5650 - val_loss: 0.5650\nEpoch 20/50\n50000/50000 [==============================] - 18s 350us/step - loss: 0.5649 - val_loss: 0.5653\nEpoch 21/50\n50000/50000 [==============================] - 18s 351us/step - loss: 0.5650 - val_loss: 0.5651\nEpoch 22/50\n50000/50000 [==============================] - 18s 350us/step - loss: 0.5648 - val_loss: 0.5652\nEpoch 23/50\n50000/50000 [==============================] - 18s 351us/step - loss: 0.5647 - val_loss: 0.5665\nEpoch 24/50\n50000/50000 [==============================] - 18s 350us/step - loss: 0.5647 - val_loss: 0.5648\nEpoch 25/50\n50000/50000 [==============================] - 18s 350us/step - loss: 0.5645 - val_loss: 0.5645\nEpoch 26/50\n50000/50000 [==============================] - 18s 351us/step - loss: 0.5645 - val_loss: 0.5671\nEpoch 27/50\n50000/50000 [==============================] - 18s 351us/step - loss: 0.5644 - val_loss: 0.5648\nEpoch 28/50\n50000/50000 [==============================] - 17s 350us/step - loss: 0.5644 - val_loss: 0.5646\nEpoch 29/50\n50000/50000 [==============================] - 18s 351us/step - loss: 0.5643 - val_loss: 0.5647\nEpoch 30/50\n50000/50000 [==============================] - 18s 351us/step - loss: 0.5642 - val_loss: 0.5648\nEpoch 00030: early stopping\n",
          "name": "stdout"
        }
      ]
    },
    {
      "metadata": {
        "trusted": true,
        "_uuid": "0bb42cd3b55da259375974599cd14846aa6f3064"
      },
      "cell_type": "code",
      "source": "def show_both_images(orig,dec,num=10):\n    n=num\n    plt.figure(figsize=(20,4))\n    \n    for i in range(n):\n        ax=plt.subplot(2,n,i+1)\n        plt.imshow(orig[i].reshape(32,32,3))\n        \n        ax=plt.subplot(2,n,i+1+n)\n        plt.imshow(dec[i].reshape(32,32,3))\n    plt.show()",
      "execution_count": 19,
      "outputs": []
    },
    {
      "metadata": {
        "trusted": true,
        "_uuid": "170cbfb9ca4a3893476f81d01c26b08b0479132b"
      },
      "cell_type": "code",
      "source": "cifar_test=model.predict(xtest1)\ncifar_train=model.predict(xtrain1)",
      "execution_count": 20,
      "outputs": []
    },
    {
      "metadata": {
        "trusted": true,
        "_uuid": "3d3059f845344f86f42932a9d65c23e7b7277ff5"
      },
      "cell_type": "code",
      "source": "plt.imshow(xtrain1[0])",
      "execution_count": 21,
      "outputs": [
        {
          "output_type": "execute_result",
          "execution_count": 21,
          "data": {
            "text/plain": "<matplotlib.image.AxesImage at 0x7fc0f5593160>"
          },
          "metadata": {}
        },
        {
          "output_type": "display_data",
          "data": {
            "text/plain": "<Figure size 432x288 with 1 Axes>",
            "image/png": "[encoded data removed]"
          },
          "metadata": {}
        }
      ]
    },
    {
      "metadata": {
        "trusted": true,
        "_uuid": "01e7f6800af609008eaba56b7375efc82c81aac2"
      },
      "cell_type": "code",
      "source": "plt.imshow(cifar_train[0])",
      "execution_count": 23,
      "outputs": [
        {
          "output_type": "execute_result",
          "execution_count": 23,
          "data": {
            "text/plain": "<matplotlib.image.AxesImage at 0x7fc0f551bf28>"
          },
          "metadata": {}
        },
        {
          "output_type": "display_data",
          "data": {
            "text/plain": "<Figure size 432x288 with 1 Axes>",
            "image/png": "[encoded data removed]"
          },
          "metadata": {}
        }
      ]
    },
    {
      "metadata": {
        "trusted": true,
        "_uuid": "4dbaa4bc9ee6920c4c477b93bc67a673b8a62042"
      },
      "cell_type": "code",
      "source": "show_both_images(xtrain1,cifar_train)",
      "execution_count": null,
      "outputs": []
    },
    {
      "metadata": {
        "trusted": true,
        "_uuid": "c6a6720187ba0ccaae090634296e4c71184dbe95"
      },
      "cell_type": "code",
      "source": "",
      "execution_count": null,
      "outputs": []
    }
  ],
  "metadata": {
    "kernelspec": {
      "display_name": "Python 3",
      "language": "python",
      "name": "python3"
    },
    "language_info": {
      "name": "python",
      "version": "3.6.6",
      "mimetype": "text/x-python",
      "codemirror_mode": {
        "name": "ipython",
        "version": 3
      },
      "pygments_lexer": "ipython3",
      "nbconvert_exporter": "python",
      "file_extension": ".py"
    }
  },
  "nbformat": 4,
  "nbformat_minor": 1
}